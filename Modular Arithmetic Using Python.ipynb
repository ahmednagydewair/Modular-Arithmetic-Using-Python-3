{
 "cells": [
  {
   "cell_type": "code",
   "execution_count": 1,
   "metadata": {},
   "outputs": [],
   "source": [
    "from functools import total_ordering\n",
    "# to take care of the rest operations, if i implement = and < only"
   ]
  },
  {
   "cell_type": "code",
   "execution_count": 7,
   "metadata": {},
   "outputs": [],
   "source": [
    "@total_ordering\n",
    "class Mod:\n",
    "    def __init__(self, value,modulus):\n",
    "        if not isinstance(modulus , int):\n",
    "            raise TypeError('unsupported type of modulus')\n",
    "        if not isinstance(value , int):\n",
    "            raise TypeError('unsupported type of value')\n",
    "        if modulus <= 0:\n",
    "            raise ValueError ('modulus must be positive')\n",
    "        self._modulus = modulus\n",
    "        self._value = value % modulus\n",
    "    \n",
    "    @property\n",
    "    def modulus(self):\n",
    "        return self._modulus\n",
    "    \n",
    "    @property\n",
    "    def value(self):\n",
    "        return self._value\n",
    "    @value.setter\n",
    "    def value (self, value):\n",
    "        self._value = value\n",
    "    \n",
    "    def __repr__(self):\n",
    "        return f'mod ({self.value} , {self.modulus})'\n",
    "    \n",
    "    def __int__(self): # if anyone type (int(x)) retrun the residue\n",
    "        return self.value\n",
    "    \n",
    "    def __eq__(self, other):\n",
    "        if isinstance(other , Mod):\n",
    "            if self.modulus != other.modulus:\n",
    "                return NotImplemented\n",
    "            else:# remeber here that the value is the actual residue\n",
    "                return self.value == other.value # if the above is true , then return the current\n",
    "        \n",
    "        elif isinstance(other, int): # if other is int , return the residue for it and compare with current\n",
    "            return other % self.modulus == self.value\n",
    "        \n",
    "        else:\n",
    "            return NotImplemented\n",
    "    \n",
    "    def __hash__(self):\n",
    "        return hash((self.value , self.modulus))\n",
    "    \n",
    "    def __neg__(self):\n",
    "        return Mod(-self.value , self.modulus)\n",
    "    \n",
    "    def __add__(self, other):\n",
    "        if isinstance(other ,Mod) and self.modulus == other.modulus:\n",
    "            return Mod(self.value +other.value,self.modulus)\n",
    "        if isinstance(other , int):\n",
    "            return Mod(self.value +other , self.modulus)\n",
    "        return NotImplemented\n",
    "    \n",
    "    def __sub__(self, other):\n",
    "        if isinstance(other ,Mod) and self.modulus == other.modulus:\n",
    "            return Mod(self.value -other.value , self.modulus)\n",
    "        if isinstance(other , int):\n",
    "            return Mod(self.value - other , self.modulus)\n",
    "        return NotImplemented\n",
    "    \n",
    "    def __mul__(self, other):\n",
    "        if isinstance(other ,Mod) and self.modulus == other.modulus:\n",
    "            return Mod(self.value * other.value , self.modulus)\n",
    "        if isinstance(other , int): # to aviod endup with massive number\n",
    "            return Mod(self.value * (other % self.modulus), self.modulus)\n",
    "        return NotImplemented\n",
    "    \n",
    "    def __pow__(self, other):\n",
    "        if isinstance(other ,Mod) and self.modulus == other.modulus:\n",
    "            return Mod(self.value * other.value , self.modulus)\n",
    "        if isinstance(other , int): # we will endup with big number so will devide other % modulus \n",
    "            return Mod(self.value ** (other %self.modulus) , self.modulus)\n",
    "        return NotImplemented\n",
    "    \n",
    "    def __iadd__(self, other):\n",
    "        if isinstance(other ,Mod) and self.modulus == other.modulus:\n",
    "            self.value = (self.value + other.value) % self.modulus\n",
    "            return self\n",
    "        if isinstance(other , int):  \n",
    "            self.value = (self.value + other)% self.modulus\n",
    "            return self\n",
    "        return NotImplemented\n",
    "    \n",
    "    def __isub__(self, other):\n",
    "        if isinstance(other ,Mod) and self.modulus == other.modulus:\n",
    "            self.value = (self.value - other.value) % self.modulus\n",
    "            return self\n",
    "        if isinstance(other , int):  \n",
    "            self.value = (self.value - other)% self.modulus\n",
    "            return self\n",
    "        return NotImplemented\n",
    "    \n",
    "    def __imul__(self, other):\n",
    "        if isinstance(other ,Mod) and self.modulus == other.modulus:\n",
    "            self.value = (self.value * other.value) % self.modulus\n",
    "            return self\n",
    "        if isinstance(other , int):  \n",
    "            self.value = (self.value * other)% self.modulus\n",
    "            return self\n",
    "        return NotImplemented\n",
    "    \n",
    "    def __ipow__(self, other):\n",
    "        if isinstance(other ,Mod) and self.modulus == other.modulus:\n",
    "            self.value = (self.value ** other.value) % self.modulus\n",
    "            return self\n",
    "        if isinstance(other , int):  \n",
    "            self.value = (self.value ** (other%self.modulus))% self.modulus\n",
    "            return self\n",
    "        return NotImplemented\n",
    "    def __lt__(self, other):\n",
    "        if isinstance(other ,Mod) and self.modulus == other.modulus:\n",
    "            return self.value < other.value\n",
    "        if isinstance(other , int): # we will endup with big number so will devide other % modulus \n",
    "            return self.value < (other % self.modulus)\n",
    "        return NotImplemented"
   ]
  },
  {
   "cell_type": "code",
   "execution_count": 8,
   "metadata": {},
   "outputs": [
    {
     "data": {
      "text/plain": [
       "True"
      ]
     },
     "execution_count": 8,
     "metadata": {},
     "output_type": "execute_result"
    }
   ],
   "source": [
    "Mod(3,12) == Mod(15,12)"
   ]
  },
  {
   "cell_type": "code",
   "execution_count": 9,
   "metadata": {},
   "outputs": [
    {
     "data": {
      "text/plain": [
       "mod (3 , 12)"
      ]
     },
     "execution_count": 9,
     "metadata": {},
     "output_type": "execute_result"
    }
   ],
   "source": [
    "Mod(3,12)+12"
   ]
  },
  {
   "cell_type": "code",
   "execution_count": 10,
   "metadata": {},
   "outputs": [
    {
     "data": {
      "text/plain": [
       "mod (4 , 12)"
      ]
     },
     "execution_count": 10,
     "metadata": {},
     "output_type": "execute_result"
    }
   ],
   "source": [
    "Mod(3,12)+25"
   ]
  },
  {
   "cell_type": "code",
   "execution_count": 11,
   "metadata": {},
   "outputs": [
    {
     "data": {
      "text/plain": [
       "mod (4 , 12)"
      ]
     },
     "execution_count": 11,
     "metadata": {},
     "output_type": "execute_result"
    }
   ],
   "source": [
    "Mod(3,12)+Mod (25,12)"
   ]
  },
  {
   "cell_type": "code",
   "execution_count": 12,
   "metadata": {},
   "outputs": [
    {
     "ename": "TypeError",
     "evalue": "unsupported operand type(s) for +: 'Mod' and 'Mod'",
     "output_type": "error",
     "traceback": [
      "\u001b[1;31m---------------------------------------------------------------------------\u001b[0m",
      "\u001b[1;31mTypeError\u001b[0m                                 Traceback (most recent call last)",
      "\u001b[1;32m<ipython-input-12-b3e952d69ce3>\u001b[0m in \u001b[0;36m<module>\u001b[1;34m\u001b[0m\n\u001b[1;32m----> 1\u001b[1;33m \u001b[0mMod\u001b[0m\u001b[1;33m(\u001b[0m\u001b[1;36m3\u001b[0m\u001b[1;33m,\u001b[0m\u001b[1;36m12\u001b[0m\u001b[1;33m)\u001b[0m\u001b[1;33m+\u001b[0m\u001b[0mMod\u001b[0m \u001b[1;33m(\u001b[0m\u001b[1;36m25\u001b[0m\u001b[1;33m,\u001b[0m\u001b[1;36m5\u001b[0m\u001b[1;33m)\u001b[0m\u001b[1;33m\u001b[0m\u001b[1;33m\u001b[0m\u001b[0m\n\u001b[0m",
      "\u001b[1;31mTypeError\u001b[0m: unsupported operand type(s) for +: 'Mod' and 'Mod'"
     ]
    }
   ],
   "source": [
    "Mod(3,12)+Mod (25,5)\n",
    "# because we don't support different modulus"
   ]
  },
  {
   "cell_type": "markdown",
   "metadata": {},
   "source": [
    "## let's make some refactor to the code"
   ]
  },
  {
   "cell_type": "code",
   "execution_count": 13,
   "metadata": {},
   "outputs": [],
   "source": [
    "def _is_compatible(self, other):\n",
    "    return isinstance(other ,int) or (isinstance(self,Mod) and self.modulus == other.modulus)"
   ]
  },
  {
   "cell_type": "code",
   "execution_count": 14,
   "metadata": {},
   "outputs": [],
   "source": [
    "# but we need to return the value in case of (int)  and other.value in case of Mod Class\n",
    "def _get_value(self, other):\n",
    "    if isinstance(other , int):\n",
    "        return other % self.modulus\n",
    "    if isinstance(other, Mod) and self.modulus == other.modulus:\n",
    "        return other.value\n",
    "    raise TypeError('incompatible types')"
   ]
  },
  {
   "cell_type": "code",
   "execution_count": 15,
   "metadata": {},
   "outputs": [],
   "source": [
    "@total_ordering\n",
    "class Mod:\n",
    "    def __init__(self, value,modulus):\n",
    "        if not isinstance(modulus , int):\n",
    "            raise TypeError('unsupported type of modulus')\n",
    "        if not isinstance(value , int):\n",
    "            raise TypeError('unsupported type of value')\n",
    "        if modulus <= 0:\n",
    "            raise ValueError ('modulus must be positive')\n",
    "        self._modulus = modulus\n",
    "        self._value = value % modulus\n",
    "    \n",
    "    @property\n",
    "    def modulus(self):\n",
    "        return self._modulus\n",
    "    \n",
    "    @property\n",
    "    def value(self):\n",
    "        return self._value\n",
    "    @value.setter\n",
    "    def value (self, value):\n",
    "        self._value = value\n",
    "    \n",
    "    def __repr__(self):\n",
    "        return f'mod ({self.value} , {self.modulus})'\n",
    "    \n",
    "    def __int__(self): # if anyone type (int(x)) retrun the residue\n",
    "        return self.value\n",
    "    \n",
    "    def _get_value(self, other):\n",
    "        if isinstance(other , int):\n",
    "            return other % self.modulus\n",
    "        if isinstance(other, Mod) and self.modulus == other.modulus:\n",
    "            return other.value\n",
    "        raise TypeError('incompatible types')\n",
    "    \n",
    "    def __eq__(self, other):\n",
    "        other_value = self._get_value(other)\n",
    "        return other_value == self.value\n",
    "    \n",
    "    def __hash__(self):\n",
    "        return hash((self.value , self.modulus))\n",
    "    \n",
    "    def __neg__(self):\n",
    "        return Mod(-self.value , self.modulus)\n",
    "    \n",
    "    def __add__(self, other):\n",
    "        other_value = self._get_value(other)\n",
    "        return Mod (self.value +other_value ,self.modulus)\n",
    "    \n",
    "    def __sub__(self, other):\n",
    "        other_value = self._get_value(other)\n",
    "        return Mod (self.value - other_value ,self.modulus)\n",
    "    \n",
    "    def __mul__(self, other):\n",
    "        other_value = self._get_value(other)\n",
    "        return Mod (self.value * other_value ,self.modulus)\n",
    "    \n",
    "    def __pow__(self, other):\n",
    "        other_value = self._get_value(other)\n",
    "        return Mod (self.value * other_value ,self.modulus)\n",
    "    \n",
    "    def __iadd__(self, other):\n",
    "        other_value = self._get_value(other)\n",
    "        self.value = (self.value + other_value) %self.modulus\n",
    "        return self\n",
    "    \n",
    "    def __isub__(self, other):\n",
    "        other_value = self._get_value(other)\n",
    "        self.value = (self.value - other_value) %self.modulus\n",
    "        return self\n",
    "    \n",
    "    def __imul__(self, other):\n",
    "        other_value = self._get_value(other)\n",
    "        self.value = (self.value * other_value) %self.modulus\n",
    "        return self\n",
    "    \n",
    "    def __ipow__(self, other):\n",
    "        other_value = self._get_value(other)\n",
    "        self.value = (self.value ** other_value) %self.modulus\n",
    "        return self\n",
    "    \n",
    "    def __lt__(self, other):\n",
    "        other_value = self._get_value(other)\n",
    "        return self.value < other_value"
   ]
  },
  {
   "cell_type": "code",
   "execution_count": 17,
   "metadata": {},
   "outputs": [
    {
     "data": {
      "text/plain": [
       "mod (0 , 3)"
      ]
     },
     "execution_count": 17,
     "metadata": {},
     "output_type": "execute_result"
    }
   ],
   "source": [
    "Mod(2,3)*18"
   ]
  },
  {
   "cell_type": "code",
   "execution_count": 18,
   "metadata": {},
   "outputs": [
    {
     "data": {
      "text/plain": [
       "False"
      ]
     },
     "execution_count": 18,
     "metadata": {},
     "output_type": "execute_result"
    }
   ],
   "source": [
    "Mod(2,3) <Mod(4,3)"
   ]
  },
  {
   "cell_type": "code",
   "execution_count": null,
   "metadata": {},
   "outputs": [],
   "source": []
  }
 ],
 "metadata": {
  "kernelspec": {
   "display_name": "Python 3",
   "language": "python",
   "name": "python3"
  },
  "language_info": {
   "codemirror_mode": {
    "name": "ipython",
    "version": 3
   },
   "file_extension": ".py",
   "mimetype": "text/x-python",
   "name": "python",
   "nbconvert_exporter": "python",
   "pygments_lexer": "ipython3",
   "version": "3.7.4"
  }
 },
 "nbformat": 4,
 "nbformat_minor": 2
}
